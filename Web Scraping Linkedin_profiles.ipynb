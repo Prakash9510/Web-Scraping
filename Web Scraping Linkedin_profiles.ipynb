{
 "cells": [
  {
   "cell_type": "code",
   "execution_count": 76,
   "id": "e5757d28",
   "metadata": {},
   "outputs": [],
   "source": [
    "import requests\n",
    "import lxml\n",
    "from bs4 import BeautifulSoup\n",
    "from selenium import webdriver\n",
    "from selenium.webdriver.common.keys import Keys\n",
    "from time import sleep\n",
    "import csv\n",
    "import pandas as pd\n",
    "from selenium.webdriver.remote.webelement import WebElement\n",
    "import time"
   ]
  },
  {
   "cell_type": "code",
   "execution_count": 77,
   "id": "248ca18f",
   "metadata": {},
   "outputs": [
    {
     "name": "stderr",
     "output_type": "stream",
     "text": [
      "C:\\Users\\PRAKAS~1\\AppData\\Local\\Temp/ipykernel_2664/2215532749.py:1: DeprecationWarning: executable_path has been deprecated, please pass in a Service object\n",
      "  browser = webdriver.Chrome('chromedriver.exe')\n",
      "C:\\Users\\PRAKAS~1\\AppData\\Local\\Temp/ipykernel_2664/2215532749.py:11: DeprecationWarning: find_element_by_* commands are deprecated. Please use find_element() instead\n",
      "  elementID = browser.find_element_by_id('username')\n",
      "C:\\Users\\PRAKAS~1\\AppData\\Local\\Temp/ipykernel_2664/2215532749.py:14: DeprecationWarning: find_element_by_* commands are deprecated. Please use find_element() instead\n",
      "  elementID = browser.find_element_by_id('password')\n"
     ]
    }
   ],
   "source": [
    "browser = webdriver.Chrome('chromedriver.exe')\n",
    "browser.get('https://www.linkedin.com/login')\n",
    "sleep(2)\n",
    "file = open('New Text Document.txt')\n",
    "lines = file.readlines()\n",
    "username = lines[0]\n",
    "sleep(2)\n",
    "password = lines[1]\n",
    "sleep(2)\n",
    "\n",
    "elementID = browser.find_element_by_id('username')\n",
    "elementID.send_keys(username)\n",
    "sleep(2)\n",
    "elementID = browser.find_element_by_id('password')\n",
    "elementID.send_keys(password)\n",
    "sleep(2)\n",
    "elementID.submit()"
   ]
  },
  {
   "cell_type": "code",
   "execution_count": 85,
   "id": "d57d2a8d",
   "metadata": {},
   "outputs": [],
   "source": [
    "browser.get('https://www.linkedin.com/sales/search/people?_ntb=Ye6Qh5sHSDuPV45GqBcPlQ%3D%3D&query=(recentSearchParam%3A(id%3A1402945849%2CdoLogHistory%3Atrue)%2Cfilters%3AList((type%3ACURRENT_COMPANY%2Cvalues%3AList((id%3A162479%2Ctext%3AApple%2CselectionType%3AINCLUDED)))%2C(type%3AINDUSTRY%2Cvalues%3AList((id%3A4%2Ctext%3AComputer%2520Software%2CselectionType%3AINCLUDED)))%2C(type%3AREGION%2Cvalues%3AList((id%3A103644278%2Ctext%3AUnited%2520States%2CselectionType%3AINCLUDED)))%2C(type%3AYEARS_OF_EXPERIENCE%2Cvalues%3AList((id%3A1%2Ctext%3ALess%2520than%25201%2520year%2CselectionType%3AINCLUDED)))))&sessionId=pjTb68AURWaqev6e4JOBJQ%3D%3D')\n",
    "sleep(2)"
   ]
  },
  {
   "cell_type": "code",
   "execution_count": 79,
   "id": "c30d2d2f",
   "metadata": {},
   "outputs": [
    {
     "name": "stdout",
     "output_type": "stream",
     "text": [
      "['https://www.linkedin.com/sales/lead/ACwAAAIu-y4Bc9yzJPwH8UgTCYn8N_2tyAgNRys,NAME_SEARCH,W3KQ?_ntb=pjTb68AURWaqev6e4JOBJQ%3D%3D', 'https://www.linkedin.com/sales/lead/ACwAAC4XjoAB3VMv4tbxEZJ-kb9sXzulYfpttOI,NAME_SEARCH,yH8C?_ntb=pjTb68AURWaqev6e4JOBJQ%3D%3D', 'https://www.linkedin.com/sales/lead/ACwAACZun9oBxzCSNvfmre2qszFzad_cQHyePkM,NAME_SEARCH,UuYY?_ntb=pjTb68AURWaqev6e4JOBJQ%3D%3D', 'https://www.linkedin.com/sales/lead/ACwAACUYK60B_Y7vwxqYjWMw7LJGvsiNPkzzbNE,NAME_SEARCH,0ADn?_ntb=pjTb68AURWaqev6e4JOBJQ%3D%3D', 'https://www.linkedin.com/sales/lead/ACwAADWz6yMBvHLibm3TOAXDGEJ6PgAWfbwswJ4,NAME_SEARCH,vB8e?_ntb=pjTb68AURWaqev6e4JOBJQ%3D%3D', 'https://www.linkedin.com/sales/lead/ACwAACSlA20BPXZA2P8otPSydla-Rlv5hpz91es,NAME_SEARCH,8mjq?_ntb=pjTb68AURWaqev6e4JOBJQ%3D%3D', 'https://www.linkedin.com/sales/lead/ACwAADeE02MBfKJ8P2jddUiSLCbk3Qn6iorQw_8,NAME_SEARCH,dk_h?_ntb=pjTb68AURWaqev6e4JOBJQ%3D%3D', 'https://www.linkedin.com/sales/lead/ACwAACvehy4BsFnwprJgxpwHnHTAVjzpnXSmwSI,NAME_SEARCH,nF4S?_ntb=pjTb68AURWaqev6e4JOBJQ%3D%3D', 'https://www.linkedin.com/sales/lead/ACwAACvNo3ABn1c3b3NUmFE2kIdrDZqn0gJKZ_g,NAME_SEARCH,sKIR?_ntb=pjTb68AURWaqev6e4JOBJQ%3D%3D', 'https://www.linkedin.com/sales/lead/ACwAABWUhk0BeAWoLb5pUcqmq1cXZPZ4vOX2nm0,NAME_SEARCH,m_Fi?_ntb=pjTb68AURWaqev6e4JOBJQ%3D%3D', 'https://www.linkedin.com/sales/lead/ACwAAChE4rcBj2yJz9lNJQ01xowFKpNnqytKu-E,NAME_SEARCH,GaTC?_ntb=pjTb68AURWaqev6e4JOBJQ%3D%3D', 'https://www.linkedin.com/sales/lead/ACwAACJnFOIB20fiQu0H3Zg4n015u4C5hS1ahBQ,NAME_SEARCH,6OwD?_ntb=pjTb68AURWaqev6e4JOBJQ%3D%3D', 'https://www.linkedin.com/sales/lead/ACwAADh6wIMBu8x4jVPGF6uEsV4A4GCehtm0Ww8,NAME_SEARCH,mTwJ?_ntb=pjTb68AURWaqev6e4JOBJQ%3D%3D', 'https://www.linkedin.com/sales/lead/ACwAAC07LEABdrM-iz5OxxOjwkSPSinIY6Oye6g,NAME_SEARCH,6k9P?_ntb=pjTb68AURWaqev6e4JOBJQ%3D%3D', 'https://www.linkedin.com/sales/lead/ACwAACjjio0BkRI9CjUIrM9YRU5K6-cQPNoPmcg,OUT_OF_NETWORK,3M6u?_ntb=pjTb68AURWaqev6e4JOBJQ%3D%3D', 'https://www.linkedin.com/sales/lead/ACwAABdfzuYB7eGH3MaUqVrqmGojd_SpMY3NdKA,NAME_SEARCH,XJEN?_ntb=pjTb68AURWaqev6e4JOBJQ%3D%3D', 'https://www.linkedin.com/sales/lead/ACwAACr4Z4IBImWsfEQ7VuOA0KUjIYbE-483gyE,NAME_SEARCH,KKcg?_ntb=pjTb68AURWaqev6e4JOBJQ%3D%3D', 'https://www.linkedin.com/sales/lead/ACwAADK4ix0BbBWkcLNEoX_ZwBsfr6Ljn-v0XeA,NAME_SEARCH,Y6xb?_ntb=pjTb68AURWaqev6e4JOBJQ%3D%3D', 'https://www.linkedin.com/sales/lead/ACwAADkCyToBQJXXSXMKvOP8eWlMZHY_srgvUSE,NAME_SEARCH,a06J?_ntb=pjTb68AURWaqev6e4JOBJQ%3D%3D', 'https://www.linkedin.com/sales/lead/ACwAADYIukwBzt1cu2NG8ruwaZJWuEuvllvQwGk,OUT_OF_NETWORK,o7zo?_ntb=pjTb68AURWaqev6e4JOBJQ%3D%3D', 'https://www.linkedin.com/sales/lead/ACwAADbxGwYBtGpY1W4if4k9kax4FbZgJm-_720,NAME_SEARCH,eBD0?_ntb=pjTb68AURWaqev6e4JOBJQ%3D%3D', 'https://www.linkedin.com/sales/lead/ACwAAC9Hai8BPFodc5Nr7VzclUNJyhZMePO2aSo,NAME_SEARCH,iv6l?_ntb=pjTb68AURWaqev6e4JOBJQ%3D%3D', 'https://www.linkedin.com/sales/lead/ACwAAC7U6eQBw3rT94UaF0WGt9a9GXnNz9bho3M,OUT_OF_NETWORK,FiZC?_ntb=pjTb68AURWaqev6e4JOBJQ%3D%3D', 'https://www.linkedin.com/sales/lead/ACwAACQAC-gBfX_3rClCWpID4lvCW0rBV2QcApQ,NAME_SEARCH,I6aK?_ntb=pjTb68AURWaqev6e4JOBJQ%3D%3D', 'https://www.linkedin.com/sales/lead/ACwAADEbFosBdGvzaio4ccSlGA-XvmesykuQNeM,NAME_SEARCH,HeAi?_ntb=pjTb68AURWaqev6e4JOBJQ%3D%3D']\n"
     ]
    }
   ],
   "source": [
    "def Geturl():\n",
    "    page_source = BeautifulSoup(browser.page_source)\n",
    "    profiles = page_source.find_all('a',{'data-control-name':'view_profile_via_result_name'})\n",
    "    all_profile_url = []\n",
    "    for profile in profiles:\n",
    "        ID = profile.get('href')\n",
    "        url = \"https://www.linkedin.com\" + ID\n",
    "        all_profile_url.append(url)\n",
    "    return all_profile_url\n",
    "print(Geturl())"
   ]
  },
  {
   "cell_type": "code",
   "execution_count": 80,
   "id": "4a88faa6",
   "metadata": {},
   "outputs": [
    {
     "name": "stdout",
     "output_type": "stream",
     "text": [
      "HdrO1iwBhK\n"
     ]
    }
   ],
   "source": [
    "import random;\n",
    "\n",
    "def unique_key():\n",
    "    array = []\n",
    "    for letter in range(97,123):\n",
    "        array.append(chr(letter))\n",
    "    for letter in range(65,91):\n",
    "        array.append(chr(letter))\n",
    "    for number in range(0,10):\n",
    "        array.append(number)\n",
    "\n",
    "    random_values = random.sample(array, 10)\n",
    "    random_values = map(lambda x: str(x), random_values)\n",
    "    return \"\".join(random_values)\n",
    "\n",
    "print(unique_key())"
   ]
  },
  {
   "cell_type": "code",
   "execution_count": 81,
   "id": "d83fdf2c",
   "metadata": {},
   "outputs": [
    {
     "name": "stdout",
     "output_type": "stream",
     "text": [
      "GfRtcjgYrn\n"
     ]
    }
   ],
   "source": [
    "Profile_id = unique_key()\n",
    "print(Profile_id)"
   ]
  },
  {
   "cell_type": "code",
   "execution_count": 82,
   "id": "47366a7b",
   "metadata": {},
   "outputs": [
    {
     "name": "stdout",
     "output_type": "stream",
     "text": [
      "BJlq4HAtSe\n",
      "Jaison F.\n",
      "React Native, iOS, Android, Angular, Node, GraphQL\n",
      "Alexandria, Virginia, United States\n",
      "\n",
      "\n",
      "vGV4Ts3mYf\n",
      "Rose Meyers\n",
      "Specialist at Apple | Software Engineering Student\n",
      "Boca Raton, Florida, United States\n",
      "\n",
      "\n",
      "spbFyJWTUj\n",
      "Ariel Carvalho\n",
      "Database Engineer at Apple Inc.\n",
      "Dallas-Fort Worth Metroplex\n",
      "\n",
      "\n",
      "kPM1NjQy0s\n",
      "Ryan Chiu\n",
      "Incoming Software Engineer at Apple | CS @ UChicago\n",
      "San Francisco Bay Area\n",
      "\n",
      "\n",
      "VsJdH7lXFI\n",
      "Justin Vo\n",
      "CS @ UCSB\n",
      "San Francisco Bay Area\n",
      "\n",
      "\n",
      "f5IL4b3aWV\n",
      "Jefferson Maia\n",
      "Linguist | UX Researcher | Data Scientist\n",
      "Columbia, South Carolina, United States\n",
      "\n",
      "\n",
      "94kn0Cs2E6\n",
      "Utkarsh Anand\n",
      "Software Engineer at Apple\n",
      "Los Angeles, California, United States\n",
      "\n",
      "\n",
      "I9dfoQtN4O\n",
      "Chikodi Charles-Obi\n",
      "Incoming Systems Engineering Summer Intern at L3Harris | Computer Engineering Student at The Pennsylvania State University\n",
      "University Park, Pennsylvania, United States\n",
      "\n",
      "\n",
      "cfK5L4Ow8z\n",
      "Man（Mandy) Yu\n",
      "Automation Engineer - Video Engineering at Apple\n",
      "Sunnyvale, California, United States\n",
      "\n",
      "\n",
      "PCsfn17rZl\n",
      "Vidur Gupta\n",
      "Software Engineer at Apple\n",
      "San Francisco Bay Area\n",
      "\n",
      "\n",
      "fjPaR8hCJ0\n",
      "Armando Taveras\n",
      "Software Engineer Intern @Apple\n",
      "Washington DC-Baltimore Area\n",
      "\n",
      "\n",
      "U1ix8mACs7\n",
      "Peter H.\n",
      "Business Analyst Intern at Apple\n",
      "United States\n",
      "\n",
      "\n",
      "rVSXE5tZqF\n",
      "Brent Ilejay\n",
      "Student at California State University, Northridge\n",
      "Los Angeles, California, United States\n",
      "\n",
      "\n",
      "4H1TKohjgD\n",
      "Drew Maichel\n",
      "Fullstack Web Developer\n",
      "San Francisco Bay Area\n",
      "\n",
      "\n",
      "CRJmjZ7kQU\n",
      "LinkedIn Member\n",
      "Student at the University of Central Florida\n",
      "Miami-Fort Lauderdale Area\n",
      "\n",
      "\n",
      "qcaQbFOSNu\n",
      "Igor Santos\n",
      "Computational Linguist\n",
      "San Francisco Bay Area\n",
      "\n",
      "\n",
      "mg2fUA1TkV\n",
      "Aashish Kapoor\n",
      "Technical Specialist at Apple\n",
      "San Francisco Bay Area\n",
      "\n",
      "\n",
      "zYG1aOpcgf\n",
      "Emmanuela Alaimo\n",
      "B.S. Computer Science Student at The George Washington University\n",
      "Kutztown, Pennsylvania, United States\n",
      "\n",
      "\n",
      "J8cnh2UNIt\n",
      "Michael Abuelsaad\n",
      "Student at Diablo Valley College\n",
      "San Ramon, California, United States\n",
      "\n",
      "\n",
      "YjI4wQZg8n\n",
      "LinkedIn Member\n",
      "Specialist at Apple\n",
      "Queens, New York, United States\n",
      "\n",
      "\n",
      "l2GzabTgIi\n",
      "Gary Lee Jr\n",
      "Solo social media marketing specialist 🚀 ▪ Sales ▪ Lead generation ▪ Funnels ▪ Conversions and more.\n",
      "Las Vegas, Nevada, United States\n",
      "\n",
      "\n",
      "3aqfEGH2W1\n",
      "Justin Pinsky\n",
      "Software Engineer @ Apple\n",
      "Greater Chicago Area\n",
      "\n",
      "\n",
      "fymV2SARhN\n",
      "LinkedIn Member\n",
      "Engineering student at University of Houston | Technical Specialist at Apple\n",
      "Greater Houston\n",
      "\n",
      "\n",
      "z1EnICWNbO\n",
      "Felix Fu\n",
      "Actively looking for Java Backend (or FullStack) opportunities | Open for relocation\n",
      "Fremont, California, United States\n",
      "\n",
      "\n",
      "tVE7OeBjqh\n",
      "Brandon Wang\n",
      "Computer Science, Statistics at UC Berkeley\n",
      "Berkeley, California, United States\n",
      "\n",
      "\n"
     ]
    }
   ],
   "source": [
    "job = []\n",
    "for linkedin in Geturl():\n",
    "    browser.get(linkedin)\n",
    "    sleep(2)\n",
    "    page_source = browser.page_source\n",
    "    sleep(2)\n",
    "    page_source = BeautifulSoup(page_source,\"lxml\") \n",
    "    sleep(2)\n",
    "    Profile_id = unique_key()\n",
    "    sleep(2)\n",
    "    print(Profile_id)\n",
    "    sleep(2)\n",
    "    name = page_source.find('div',{'class':'_name-title-container_sqh8tm'}).find('h1').get_text().strip()\n",
    "    sleep(2)\n",
    "    print(name)\n",
    "    sleep(2)\n",
    "    profile = page_source.find('div',{'class':'_bodyText_1e5nen _default_1i6ulk'}).get_text().strip()\n",
    "    sleep(2)\n",
    "    print(profile)\n",
    "    location = page_source.find('div',class_=\"_lockup-links-container_sqh8tm\").find('a').get_text().strip()\n",
    "    sleep(2)\n",
    "    print(location)\n",
    "    df = (Profile_id,name,profile,location)\n",
    "    job.append(df)\n",
    "    print('\\n')"
   ]
  },
  {
   "cell_type": "code",
   "execution_count": 83,
   "id": "6392e4d8",
   "metadata": {},
   "outputs": [],
   "source": [
    "data = pd.DataFrame(job,columns=('Profile_id','name','profile','location'))       "
   ]
  },
  {
   "cell_type": "code",
   "execution_count": 84,
   "id": "0370883a",
   "metadata": {},
   "outputs": [],
   "source": [
    "data.to_csv('extraction.csv',index=False)"
   ]
  }
 ],
 "metadata": {
  "kernelspec": {
   "display_name": "Python 3 (ipykernel)",
   "language": "python",
   "name": "python3"
  },
  "language_info": {
   "codemirror_mode": {
    "name": "ipython",
    "version": 3
   },
   "file_extension": ".py",
   "mimetype": "text/x-python",
   "name": "python",
   "nbconvert_exporter": "python",
   "pygments_lexer": "ipython3",
   "version": "3.10.0"
  }
 },
 "nbformat": 4,
 "nbformat_minor": 5
}
